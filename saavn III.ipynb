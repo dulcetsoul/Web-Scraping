{
 "cells": [
  {
   "cell_type": "code",
   "execution_count": 3,
   "metadata": {},
   "outputs": [
    {
     "name": "stdout",
     "output_type": "stream",
     "text": [
      "Enter your choice (1-5): 4\n",
      "1 Neel Digante\n",
      "2 Tomake Female\n",
      "3 Ami Tomake Bhalobasi\n",
      "4 Chupi Chupi Mon\n",
      "5 Rangabati\n",
      "6 Shei Tumi\n",
      "7 Bhalobasi Chol\n",
      "8 Ay Na Aro Kache\n",
      "9 Tor Mon Paray\n",
      "10 Tumi Chara\n",
      "11 Monta Katha Sonena\n",
      "12 Brishti Theme Gele\n",
      "13 Oi Dakche Aakash\n",
      "14 Aye Chol Harai\n",
      "15 Aj Amar Akash\n"
     ]
    }
   ],
   "source": [
    "from bs4 import BeautifulSoup\n",
    "import requests\n",
    "\n",
    "choice = {\n",
    "    '1':'LdbVc1Z5i9E_',\n",
    "    '2':'8MT-LQlP35c_',\n",
    "    '3':'W6DUe-fP3X8_',\n",
    "    '4':'zDijQvMQA4w_',\n",
    "    '5':'lD9c76kSeqc_'\n",
    "}\n",
    "ch = input(\"Enter your choice (1-5): \");\n",
    "res = requests.get(\"https://www.jiosaavn.com/featured/weekly-top-songs/\"+choice[ch])\n",
    "soup = BeautifulSoup(res.text,'lxml');\n",
    "data = soup.find('ol',{'class':'content-list'})\n",
    "all_songs = data.find_all('div',{'class':'details'})\n",
    "for count,s in enumerate(all_songs,1):\n",
    "    song = s.find(\"p\",{\"class\":\"song-name\"})\n",
    "    print(str(count) + \" \" +song.text)\n",
    "    "
   ]
  },
  {
   "cell_type": "code",
   "execution_count": null,
   "metadata": {},
   "outputs": [],
   "source": []
  }
 ],
 "metadata": {
  "kernelspec": {
   "display_name": "Python 3",
   "language": "python",
   "name": "python3"
  },
  "language_info": {
   "codemirror_mode": {
    "name": "ipython",
    "version": 3
   },
   "file_extension": ".py",
   "mimetype": "text/x-python",
   "name": "python",
   "nbconvert_exporter": "python",
   "pygments_lexer": "ipython3",
   "version": "3.7.3"
  }
 },
 "nbformat": 4,
 "nbformat_minor": 2
}
