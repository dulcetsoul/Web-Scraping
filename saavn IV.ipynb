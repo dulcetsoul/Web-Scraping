{
 "cells": [
  {
   "cell_type": "code",
   "execution_count": 14,
   "metadata": {},
   "outputs": [
    {
     "name": "stdout",
     "output_type": "stream",
     "text": [
      "1. English\n",
      "2. Hindi\n",
      "3. Bengali\n",
      "4. Gujarati\n",
      "5. Haryanvi\n",
      "Enter your choice(1-5): 1\n"
     ]
    },
    {
     "data": {
      "text/plain": [
       "'LdbVc1Z5i9E_'"
      ]
     },
     "execution_count": 14,
     "metadata": {},
     "output_type": "execute_result"
    }
   ],
   "source": [
    "from bs4 import BeautifulSoup\n",
    "import requests\n",
    "\n",
    "choice = {\n",
    "    '1' : 'LdbVc1Z5i9E_',\n",
    "    '2' : '8MT-LQlP35c_',\n",
    "    '3' : 'zDijQvMQA4w_',\n",
    "    '4' : 'lD9c76kSeqc_',\n",
    "    '5' : 'ar5lExlDmbwwkg5tVhI3fw__'\n",
    "}\n",
    "\n",
    "type_of = {\n",
    "    '1' : 'English',\n",
    "    '2' : 'Hindi',\n",
    "    '3' : 'Bengali',\n",
    "    '4' : 'Gujarati',\n",
    "    '5' : 'Haryanvi'\n",
    "    \n",
    "}\n",
    "def print_choice():\n",
    "    for i in sorted(type_of):\n",
    "        print('{}. {}'.format(i,type_of[i]))\n",
    "    ch = input(\"Enter your choice(1-5): \")\n",
    "    return choice[ch]\n",
    "    \n",
    "print_choice()\n",
    "\n"
   ]
  },
  {
   "cell_type": "code",
   "execution_count": 18,
   "metadata": {},
   "outputs": [
    {
     "name": "stdout",
     "output_type": "stream",
     "text": [
      "1. English\n",
      "2. Hindi\n",
      "3. Bengali\n",
      "4. Gujarati\n",
      "5. Haryanvi\n",
      "Enter your choice(1-5): 3\n",
      "1 Neel Digante\n",
      "2 Tomake Female\n",
      "3 Ami Tomake Bhalobasi\n",
      "4 Chupi Chupi Mon\n",
      "5 Rangabati\n",
      "6 Shei Tumi\n",
      "7 Bhalobasi Chol\n",
      "8 Ay Na Aro Kache\n",
      "9 Tor Mon Paray\n",
      "10 Tumi Chara\n",
      "11 Monta Katha Sonena\n",
      "12 Brishti Theme Gele\n",
      "13 Oi Dakche Aakash\n",
      "14 Aye Chol Harai\n",
      "15 Aj Amar Akash\n"
     ]
    }
   ],
   "source": [
    "def get_choice(lang):\n",
    "    res = requests.get(\"https://www.jiosaavn.com/featured/weekly-top-songs/\"+lang)\n",
    "    soup = BeautifulSoup(res.text, 'lxml')\n",
    "    data = soup.find('ol',{'class':'content-list'})\n",
    "    all_songs = data.find_all('div',{'class':'details'})\n",
    "    return(all_songs)\n",
    "\n",
    "def print_songs(all_songs):\n",
    "    for count,s in enumerate(all_songs,1):\n",
    "        song = s.find(\"p\",{\"class\":\"song-name\"})\n",
    "        print(str(count) + \" \" +song.text)\n",
    "        \n",
    "def saavn_songs():\n",
    "    lang = print_choice()\n",
    "    all_songs = get_choice(lang)\n",
    "    print_songs(all_songs)\n",
    "\n",
    "saavn_songs()"
   ]
  },
  {
   "cell_type": "code",
   "execution_count": null,
   "metadata": {},
   "outputs": [],
   "source": []
  }
 ],
 "metadata": {
  "kernelspec": {
   "display_name": "Python 3",
   "language": "python",
   "name": "python3"
  },
  "language_info": {
   "codemirror_mode": {
    "name": "ipython",
    "version": 3
   },
   "file_extension": ".py",
   "mimetype": "text/x-python",
   "name": "python",
   "nbconvert_exporter": "python",
   "pygments_lexer": "ipython3",
   "version": "3.7.3"
  }
 },
 "nbformat": 4,
 "nbformat_minor": 2
}
