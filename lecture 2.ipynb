{
 "cells": [
  {
   "cell_type": "code",
   "execution_count": 30,
   "metadata": {},
   "outputs": [],
   "source": [
    "from bs4 import BeautifulSoup\n",
    "import requests\n",
    "res = requests.get(\"https://www.indiatoday.in/\")"
   ]
  },
  {
   "cell_type": "code",
   "execution_count": 31,
   "metadata": {},
   "outputs": [],
   "source": [
    "soup = BeautifulSoup(res.text,\"lxml\")"
   ]
  },
  {
   "cell_type": "code",
   "execution_count": 36,
   "metadata": {},
   "outputs": [],
   "source": [
    "top_stories = soup.find(\"ul\",{\"class\":\"itg-listing\"})\n",
    "all_news = top_stories.find_all(\"a\")"
   ]
  },
  {
   "cell_type": "code",
   "execution_count": 37,
   "metadata": {},
   "outputs": [
    {
     "name": "stdout",
     "output_type": "stream",
     "text": [
      "Bengaluru: DK Shivakumar welcomed with garland made of 250 kg apples\n",
      "Siddaramaiah talking loose: BS Yediyurappa slams Congress leader over Savarkar\n",
      "J&K no longer victim of dual citizenship: Ram Madhav on Article 370\n",
      "Poster reading 'CM Maharashtra only Aaditya Thackeray' appears outside his Mumbai house\n",
      "Kyarr Cyclone to intensify into extremely severe cyclonic storm in next 24 hours\n",
      "Thanks to GMR, this Diwali is lit (literally!)\n",
      "Shiv Sena seeks written assurance from Amit Shah over equal sharing of the CM seat\n",
      "Haryana govt formation live: ML Khattar to be CM, JJP's Dushyant Chautala to be deputy CM\n",
      "Rajiv Gandhi assassination convict Nalini goes on hunger strike, demands release\n",
      "Dushyant Chautala betrayed me: Ex-BSF jawan Tej Bahadur quits JJP over alliance with BJP\n",
      "Saand Ki Aankh box office collection: Day 1\n",
      "Tamil Nadu: 2-yr-old slips further into borewell as rescue operations continue | LIVE UPDATES\n",
      "Why are people in a hurry to see him off? Shastri on Dhoni's future\n",
      "Movie Review: Akshay Kumar and Kriti Sanon's Housefull 4\n",
      "Sahitya Aaj Tak brings you the best of Art and Literature!\n"
     ]
    }
   ],
   "source": [
    "for new in all_news:\n",
    "    print(new.text)"
   ]
  },
  {
   "cell_type": "code",
   "execution_count": null,
   "metadata": {},
   "outputs": [],
   "source": []
  }
 ],
 "metadata": {
  "kernelspec": {
   "display_name": "Python 3",
   "language": "python",
   "name": "python3"
  },
  "language_info": {
   "codemirror_mode": {
    "name": "ipython",
    "version": 3
   },
   "file_extension": ".py",
   "mimetype": "text/x-python",
   "name": "python",
   "nbconvert_exporter": "python",
   "pygments_lexer": "ipython3",
   "version": "3.7.3"
  }
 },
 "nbformat": 4,
 "nbformat_minor": 2
}
