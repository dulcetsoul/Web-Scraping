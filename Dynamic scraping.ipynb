{
 "cells": [
  {
   "cell_type": "code",
   "execution_count": 11,
   "metadata": {},
   "outputs": [
    {
     "name": "stdout",
     "output_type": "stream",
     "text": [
      "\n",
      "Looking for [chromedriver 78.0.3904.105 win32] driver in cache \n",
      "File found in cache by path [C:\\Users\\lenovo\\.wdm\\drivers\\chromedriver\\78.0.3904.105\\win32\\chromedriver.exe]\n",
      "HIRING FullContact Software Engineer Hiring Challenge Nov 29, 06:00 PM IST\n",
      "HIRING Lenskart SDE1 & SDE2 Hiring Challenge Nov 29, 06:00 PM IST\n",
      "HIRING Schindler Corporate Research & Development Hiring Challenge Dec  2, 06:00 PM IST\n",
      "HIRING Kaleyra Hiring Challenge Dec  6, 06:00 PM IST\n",
      "HIRING Clarivate Analytics Hiring Challenge Dec  6, 06:00 PM IST\n",
      "HIRING Sutherland Java Development Challenge Dec  6, 06:00 PM IST\n",
      "HIRING Esko hiring challenge Dec  6, 06:00 PM IST\n",
      "RATED December Easy '19 Dec  7, 09:30 AM IST\n",
      "HIRING ThoughtClan Developer Hiring Challenge Dec  9, 04:00 PM IST\n",
      "HIRING MiQ Digital Java Hiring Challenge Dec 13, 04:00 PM IST\n",
      "HIRING ScribeTech HIRE-A-THON Dec 13, 06:00 PM IST\n",
      "HIRING NASDAQ Fresh Graduates & Intern Hiring Challenge 2019 Dec 13, 06:00 PM IST\n",
      "RATED Data Structures and Algorithms Coding Contest #5 Dec 14, 09:30 AM IST\n",
      "HIRING Esri Frontend Hiring Challenge Dec 16, 06:00 PM IST\n",
      "HIRING Esri Java developer (Distribution Systems) Hiring Challenge Dec 16, 06:00 PM IST\n"
     ]
    }
   ],
   "source": [
    "from bs4 import BeautifulSoup\n",
    "import requests\n",
    "from selenium import webdriver\n",
    "from webdriver_manager.chrome import ChromeDriverManager\n",
    "\n",
    "driver = webdriver.Chrome(ChromeDriverManager().install())\n",
    "driver.get('https://www.hackerearth.com/challenges/')\n",
    "# res = requests.get('https://www.hackerearth.com/challenges/')\n",
    "res = driver.execute_script(\"return document.documentElement.outerHTML\")\n",
    "driver.quit()\n",
    "\n",
    "soup = BeautifulSoup(res,'lxml')\n",
    "data = soup.find('div',{'class' : 'upcoming challenge-list'})\n",
    "all_hackathons = data.find_all('div',{'class':'challenge-card-modern'})\n",
    "\n",
    "for hackathon in all_hackathons:\n",
    "    h_type = hackathon.find('div',{'class':'challenge-type'}).text.replace('\\n','').strip()\n",
    "    c_type = hackathon.find('div',{'class':'challenge-name'}).text.replace('\\n','').strip()\n",
    "    date = hackathon.find('div',{'class':'date'}).text.replace('\\n','').strip()\n",
    "    print(h_type,c_type,date)"
   ]
  },
  {
   "cell_type": "code",
   "execution_count": null,
   "metadata": {},
   "outputs": [],
   "source": []
  },
  {
   "cell_type": "code",
   "execution_count": null,
   "metadata": {},
   "outputs": [],
   "source": []
  }
 ],
 "metadata": {
  "kernelspec": {
   "display_name": "Python 3",
   "language": "python",
   "name": "python3"
  },
  "language_info": {
   "codemirror_mode": {
    "name": "ipython",
    "version": 3
   },
   "file_extension": ".py",
   "mimetype": "text/x-python",
   "name": "python",
   "nbconvert_exporter": "python",
   "pygments_lexer": "ipython3",
   "version": "3.7.3"
  }
 },
 "nbformat": 4,
 "nbformat_minor": 2
}
